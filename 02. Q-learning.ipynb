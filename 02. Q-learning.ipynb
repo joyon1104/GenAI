{
 "cells": [
  {
   "cell_type": "code",
   "execution_count": 2,
   "id": "54dcbf11-9b8b-4021-9ada-a76ffcb968fe",
   "metadata": {},
   "outputs": [
    {
     "data": {
      "text/plain": [
       "{(0, 'left'): 0.0,\n",
       " (0, 'right'): 0.0,\n",
       " (1, 'left'): 0.0,\n",
       " (1, 'right'): 0.0,\n",
       " (2, 'left'): 0.0,\n",
       " (2, 'right'): 0.0,\n",
       " (3, 'left'): 0.0,\n",
       " (3, 'right'): 0.0,\n",
       " (4, 'left'): 0.0,\n",
       " (4, 'right'): 0.0,\n",
       " (5, 'left'): 0.0,\n",
       " (5, 'right'): 0.0,\n",
       " (6, 'left'): 0.0,\n",
       " (6, 'right'): 0.0,\n",
       " (7, 'left'): 0.0,\n",
       " (7, 'right'): 0.0,\n",
       " (8, 'left'): 0.0,\n",
       " (8, 'right'): 0.0,\n",
       " (9, 'left'): 0.0,\n",
       " (9, 'right'): 0.0}"
      ]
     },
     "execution_count": 2,
     "metadata": {},
     "output_type": "execute_result"
    }
   ],
   "source": [
    "import random\n",
    "\n",
    "# 초기화\n",
    "random.seed(777)\n",
    "n_states = 10\n",
    "actions = ['left', 'right']\n",
    "Q = {(s, a): 0.0 for s in range(n_states) for a in actions}\n",
    "Q"
   ]
  },
  {
   "cell_type": "code",
   "execution_count": 3,
   "id": "b1db482e-e54d-48f8-88ee-3d85423f68e2",
   "metadata": {},
   "outputs": [],
   "source": [
    "alpha = 0.1\n",
    "gamma = 0.9\n",
    "eps = 0.1  # 입실론 확률 만큼 랜덤으로 행동 선택\n",
    "n_episode = 500  # 에피소드 개수"
   ]
  },
  {
   "cell_type": "code",
   "execution_count": null,
   "id": "153e1d8f-a748-40d3-8e7c-cce7bae5005e",
   "metadata": {},
   "outputs": [],
   "source": []
  }
 ],
 "metadata": {
  "kernelspec": {
   "display_name": "Python 3 (ipykernel)",
   "language": "python",
   "name": "python3"
  },
  "language_info": {
   "codemirror_mode": {
    "name": "ipython",
    "version": 3
   },
   "file_extension": ".py",
   "mimetype": "text/x-python",
   "name": "python",
   "nbconvert_exporter": "python",
   "pygments_lexer": "ipython3",
   "version": "3.13.2"
  }
 },
 "nbformat": 4,
 "nbformat_minor": 5
}
