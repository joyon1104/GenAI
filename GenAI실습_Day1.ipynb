{
 "cells": [
  {
   "cell_type": "code",
   "execution_count": 3,
   "metadata": {
    "id": "AXFGmI5DiJht"
   },
   "outputs": [],
   "source": [
    "import numpy as np"
   ]
  },
  {
   "cell_type": "code",
   "execution_count": 4,
   "metadata": {
    "id": "7XUdlvhSiQMh"
   },
   "outputs": [],
   "source": [
    "you = np.array([1,0,0,0,0,0,0])\n",
    "coffee = np.array([0,1,0,0,0,0,0])"
   ]
  },
  {
   "cell_type": "code",
   "execution_count": 5,
   "metadata": {
    "colab": {
     "base_uri": "https://localhost:8080/"
    },
    "id": "-eI_d-BJia_H",
    "outputId": "51ea4441-d99d-4d9b-ba12-f6f4d50da995"
   },
   "outputs": [
    {
     "name": "stdout",
     "output_type": "stream",
     "text": [
      "[[0.3 0.1 0.1]\n",
      " [0.7 0.7 0.7]\n",
      " [0.7 0.8 0.3]\n",
      " [0.6 0.1 0.1]\n",
      " [0.6 0.3 1. ]\n",
      " [0.6 0.7 0.6]\n",
      " [0.3 0.4 0.2]]\n"
     ]
    }
   ],
   "source": [
    "W1 = np.array([\n",
    "    [0.3,0.1,0.1],\n",
    "    [0.7,0.7,0.7],\n",
    "    [0.7,0.8,0.3],\n",
    "    [0.6,0.1,0.1],\n",
    "    [0.6,0.3,1.0],\n",
    "    [0.6,0.7,0.6],\n",
    "    [0.3,0.4,0.2]\n",
    "])\n",
    "print(W1)"
   ]
  },
  {
   "cell_type": "code",
   "execution_count": 6,
   "metadata": {
    "colab": {
     "base_uri": "https://localhost:8080/"
    },
    "id": "58FMtgzzi4dw",
    "outputId": "0d74713c-5395-431c-af79-42ea6af379f8"
   },
   "outputs": [
    {
     "name": "stdout",
     "output_type": "stream",
     "text": [
      "[0.3 0.1 0.1]\n"
     ]
    }
   ],
   "source": [
    "h1 = you@W1\n",
    "print(h1)"
   ]
  },
  {
   "cell_type": "code",
   "execution_count": 7,
   "metadata": {
    "colab": {
     "base_uri": "https://localhost:8080/"
    },
    "id": "DXYnWo65i_af",
    "outputId": "f24a1729-b97d-418b-f4b2-02d1a9bc0e85"
   },
   "outputs": [
    {
     "name": "stdout",
     "output_type": "stream",
     "text": [
      "[0.7 0.7 0.7]\n"
     ]
    }
   ],
   "source": [
    "h2 = coffee@W1\n",
    "print(h2)"
   ]
  },
  {
   "cell_type": "code",
   "execution_count": 8,
   "metadata": {
    "colab": {
     "base_uri": "https://localhost:8080/"
    },
    "id": "N5xbLOaqi_lz",
    "outputId": "681135f1-20ae-4026-ac1f-3d7e83804f1c"
   },
   "outputs": [
    {
     "name": "stdout",
     "output_type": "stream",
     "text": [
      "[0.5 0.4 0.4]\n"
     ]
    }
   ],
   "source": [
    "h = (h1 + h2)/2\n",
    "print(h)"
   ]
  },
  {
   "cell_type": "code",
   "execution_count": 9,
   "metadata": {
    "id": "eSI0tYOgnLZw"
   },
   "outputs": [],
   "source": [
    "W2 = np.array([\n",
    "    [0.2,0.2,0.1,0.6,0.7,0.1,0.5],\n",
    "    [0.2,0.1,0.5,0.2,0.2,0.2,0.3],\n",
    "    [0.6,0.1,0.4,0.2,0.8,0.8,0.0]\n",
    "])"
   ]
  },
  {
   "cell_type": "code",
   "execution_count": 10,
   "metadata": {
    "colab": {
     "base_uri": "https://localhost:8080/"
    },
    "id": "l3ImKGqVndK4",
    "outputId": "9dfea967-27cb-456b-a0c0-b8aaabab7fd9"
   },
   "outputs": [
    {
     "name": "stdout",
     "output_type": "stream",
     "text": [
      "[[0.2 0.2 0.6]\n",
      " [0.2 0.1 0.1]\n",
      " [0.1 0.5 0.4]\n",
      " [0.6 0.2 0.2]\n",
      " [0.7 0.2 0.8]\n",
      " [0.1 0.2 0.8]\n",
      " [0.5 0.3 0. ]]\n"
     ]
    }
   ],
   "source": [
    "print(W2.T)"
   ]
  },
  {
   "cell_type": "code",
   "execution_count": 12,
   "metadata": {
    "colab": {
     "base_uri": "https://localhost:8080/"
    },
    "id": "Gqldm6UHnfWn",
    "outputId": "bc31d2d1-d7e3-4156-d6b7-5121bcd5b921"
   },
   "outputs": [
    {
     "data": {
      "text/plain": [
       "array([0.42, 0.18, 0.41, 0.46, 0.75, 0.45, 0.37])"
      ]
     },
     "execution_count": 12,
     "metadata": {},
     "output_type": "execute_result"
    }
   ],
   "source": [
    "W2.T@h"
   ]
  },
  {
   "cell_type": "code",
   "execution_count": 13,
   "metadata": {
    "colab": {
     "base_uri": "https://localhost:8080/"
    },
    "id": "nEy7EMc5nhxm",
    "outputId": "368ac18f-4170-4e88-ad9b-90b3f769a498"
   },
   "outputs": [
    {
     "data": {
      "text/plain": [
       "array([0., 0., 0., 0., 1., 0., 0.])"
      ]
     },
     "execution_count": 13,
     "metadata": {},
     "output_type": "execute_result"
    }
   ],
   "source": [
    "np.round(W2.T@h, 0)"
   ]
  },
  {
   "cell_type": "code",
   "execution_count": null,
   "metadata": {
    "id": "xCluQP3RNsBb"
   },
   "outputs": [],
   "source": []
  },
  {
   "cell_type": "markdown",
   "metadata": {
    "id": "gtcjjaIENtx7"
   },
   "source": [
    "# LSTM 실습"
   ]
  },
  {
   "cell_type": "code",
   "execution_count": 14,
   "metadata": {
    "id": "CZJpGdx8NwLj"
   },
   "outputs": [],
   "source": [
    "import pandas as pd\n",
    "import torch\n",
    "import torch.nn as nn\n",
    "import torch.optim as optim\n",
    "from torch.utils.data import Dataset, DataLoader"
   ]
  },
  {
   "cell_type": "code",
   "execution_count": 15,
   "metadata": {
    "id": "LFQGqaGCN9h4"
   },
   "outputs": [],
   "source": [
    "torch.manual_seed(777)\n",
    "\n",
    "# ===== 1. CSV에서 데이터 불러오기 =====\n",
    "df = pd.read_csv(\"./data/review_data.csv\", encoding='cp949')\n",
    "text = df[\"text\"].tolist()\n",
    "labels = df[\"labels\"].tolist()"
   ]
  },
  {
   "cell_type": "code",
   "execution_count": 26,
   "metadata": {
    "colab": {
     "base_uri": "https://localhost:8080/",
     "height": 676
    },
    "id": "Pljas8CrOCWB",
    "outputId": "9b03f95e-c545-4a19-df17-ebbaed968cae"
   },
   "outputs": [
    {
     "data": {
      "application/vnd.google.colaboratory.intrinsic+json": {
       "summary": "{\n  \"name\": \"df\",\n  \"rows\": 20,\n  \"fields\": [\n    {\n      \"column\": \"text\",\n      \"properties\": {\n        \"dtype\": \"string\",\n        \"num_unique_values\": 20,\n        \"samples\": [\n          \"\\ubc30\\uc6b0\\ub4e4 \\uc5f0\\uae30\\ub3c4 \\ub108\\ubb34 \\uc88b\\uc558\\uc5b4\\uc694.\",\n          \"\\uc2dc\\uac04 \\uc544\\uae5d\\uace0 \\ub3c8 \\uc544\\uae5d\\ub124\\uc694.\",\n          \"\\uc5f0\\ucd9c\\uc774 \\ud5c8\\uc220\\ud558\\uace0 \\ub300\\uc0ac\\ub3c4 \\ubd80\\uc790\\uc5f0\\uc2a4\\ub7ec\\uc6cc\\uc694.\"\n        ],\n        \"semantic_type\": \"\",\n        \"description\": \"\"\n      }\n    },\n    {\n      \"column\": \"labels\",\n      \"properties\": {\n        \"dtype\": \"number\",\n        \"std\": 0,\n        \"min\": 0,\n        \"max\": 1,\n        \"num_unique_values\": 2,\n        \"samples\": [\n          0,\n          1\n        ],\n        \"semantic_type\": \"\",\n        \"description\": \"\"\n      }\n    }\n  ]\n}",
       "type": "dataframe",
       "variable_name": "df"
      },
      "text/html": [
       "\n",
       "  <div id=\"df-7f6e5776-4e11-4c8a-aa2c-0d9b4563db8a\" class=\"colab-df-container\">\n",
       "    <div>\n",
       "<style scoped>\n",
       "    .dataframe tbody tr th:only-of-type {\n",
       "        vertical-align: middle;\n",
       "    }\n",
       "\n",
       "    .dataframe tbody tr th {\n",
       "        vertical-align: top;\n",
       "    }\n",
       "\n",
       "    .dataframe thead th {\n",
       "        text-align: right;\n",
       "    }\n",
       "</style>\n",
       "<table border=\"1\" class=\"dataframe\">\n",
       "  <thead>\n",
       "    <tr style=\"text-align: right;\">\n",
       "      <th></th>\n",
       "      <th>text</th>\n",
       "      <th>labels</th>\n",
       "    </tr>\n",
       "  </thead>\n",
       "  <tbody>\n",
       "    <tr>\n",
       "      <th>0</th>\n",
       "      <td>배우들 연기도 너무 좋았어요.</td>\n",
       "      <td>1</td>\n",
       "    </tr>\n",
       "    <tr>\n",
       "      <th>1</th>\n",
       "      <td>스토리가 탄탄하고 연출도 훌륭했어요.</td>\n",
       "      <td>1</td>\n",
       "    </tr>\n",
       "    <tr>\n",
       "      <th>2</th>\n",
       "      <td>정말 감동적인 영화였습니다. 눈물이 멈추질 않았어요.</td>\n",
       "      <td>1</td>\n",
       "    </tr>\n",
       "    <tr>\n",
       "      <th>3</th>\n",
       "      <td>끝까지 집중해서 봤습니다. 완전 추천해요!</td>\n",
       "      <td>1</td>\n",
       "    </tr>\n",
       "    <tr>\n",
       "      <th>4</th>\n",
       "      <td>감성과 메시지가 모두 살아있는 영화였어요.</td>\n",
       "      <td>1</td>\n",
       "    </tr>\n",
       "    <tr>\n",
       "      <th>5</th>\n",
       "      <td>오랜만에 이런 좋은 영화를 봐서 기분이 좋아요.</td>\n",
       "      <td>1</td>\n",
       "    </tr>\n",
       "    <tr>\n",
       "      <th>6</th>\n",
       "      <td>음악, 연출, 연기 모두 완벽했어요.</td>\n",
       "      <td>1</td>\n",
       "    </tr>\n",
       "    <tr>\n",
       "      <th>7</th>\n",
       "      <td>시간 가는 줄 몰랐어요. 최고의 영화!</td>\n",
       "      <td>1</td>\n",
       "    </tr>\n",
       "    <tr>\n",
       "      <th>8</th>\n",
       "      <td>스토리 전개가 매끄럽고 감동적이었어요.</td>\n",
       "      <td>1</td>\n",
       "    </tr>\n",
       "    <tr>\n",
       "      <th>9</th>\n",
       "      <td>친구들에게 꼭 추천하고 싶은 영화예요.</td>\n",
       "      <td>1</td>\n",
       "    </tr>\n",
       "    <tr>\n",
       "      <th>10</th>\n",
       "      <td>지루해서 중간에 졸았어요.</td>\n",
       "      <td>0</td>\n",
       "    </tr>\n",
       "    <tr>\n",
       "      <th>11</th>\n",
       "      <td>배우 연기가 너무 어색해서 몰입이 안 됐어요.</td>\n",
       "      <td>0</td>\n",
       "    </tr>\n",
       "    <tr>\n",
       "      <th>12</th>\n",
       "      <td>스토리가 산만하고 전개가 엉성해요.</td>\n",
       "      <td>0</td>\n",
       "    </tr>\n",
       "    <tr>\n",
       "      <th>13</th>\n",
       "      <td>예고편이 다였네요. 본편은 별로예요.</td>\n",
       "      <td>0</td>\n",
       "    </tr>\n",
       "    <tr>\n",
       "      <th>14</th>\n",
       "      <td>너무 뻔한 이야기라 재미가 없었어요.</td>\n",
       "      <td>0</td>\n",
       "    </tr>\n",
       "    <tr>\n",
       "      <th>15</th>\n",
       "      <td>연출이 허술하고 대사도 부자연스러워요.</td>\n",
       "      <td>0</td>\n",
       "    </tr>\n",
       "    <tr>\n",
       "      <th>16</th>\n",
       "      <td>기대한 만큼 실망만 컸어요.</td>\n",
       "      <td>0</td>\n",
       "    </tr>\n",
       "    <tr>\n",
       "      <th>17</th>\n",
       "      <td>시간 아깝고 돈 아깝네요.</td>\n",
       "      <td>0</td>\n",
       "    </tr>\n",
       "    <tr>\n",
       "      <th>18</th>\n",
       "      <td>한 번 보고 다시는 보고 싶지 않아요.</td>\n",
       "      <td>0</td>\n",
       "    </tr>\n",
       "    <tr>\n",
       "      <th>19</th>\n",
       "      <td>결말도 어이없고 전체적으로 별로였어요.</td>\n",
       "      <td>0</td>\n",
       "    </tr>\n",
       "  </tbody>\n",
       "</table>\n",
       "</div>\n",
       "    <div class=\"colab-df-buttons\">\n",
       "\n",
       "  <div class=\"colab-df-container\">\n",
       "    <button class=\"colab-df-convert\" onclick=\"convertToInteractive('df-7f6e5776-4e11-4c8a-aa2c-0d9b4563db8a')\"\n",
       "            title=\"Convert this dataframe to an interactive table.\"\n",
       "            style=\"display:none;\">\n",
       "\n",
       "  <svg xmlns=\"http://www.w3.org/2000/svg\" height=\"24px\" viewBox=\"0 -960 960 960\">\n",
       "    <path d=\"M120-120v-720h720v720H120Zm60-500h600v-160H180v160Zm220 220h160v-160H400v160Zm0 220h160v-160H400v160ZM180-400h160v-160H180v160Zm440 0h160v-160H620v160ZM180-180h160v-160H180v160Zm440 0h160v-160H620v160Z\"/>\n",
       "  </svg>\n",
       "    </button>\n",
       "\n",
       "  <style>\n",
       "    .colab-df-container {\n",
       "      display:flex;\n",
       "      gap: 12px;\n",
       "    }\n",
       "\n",
       "    .colab-df-convert {\n",
       "      background-color: #E8F0FE;\n",
       "      border: none;\n",
       "      border-radius: 50%;\n",
       "      cursor: pointer;\n",
       "      display: none;\n",
       "      fill: #1967D2;\n",
       "      height: 32px;\n",
       "      padding: 0 0 0 0;\n",
       "      width: 32px;\n",
       "    }\n",
       "\n",
       "    .colab-df-convert:hover {\n",
       "      background-color: #E2EBFA;\n",
       "      box-shadow: 0px 1px 2px rgba(60, 64, 67, 0.3), 0px 1px 3px 1px rgba(60, 64, 67, 0.15);\n",
       "      fill: #174EA6;\n",
       "    }\n",
       "\n",
       "    .colab-df-buttons div {\n",
       "      margin-bottom: 4px;\n",
       "    }\n",
       "\n",
       "    [theme=dark] .colab-df-convert {\n",
       "      background-color: #3B4455;\n",
       "      fill: #D2E3FC;\n",
       "    }\n",
       "\n",
       "    [theme=dark] .colab-df-convert:hover {\n",
       "      background-color: #434B5C;\n",
       "      box-shadow: 0px 1px 3px 1px rgba(0, 0, 0, 0.15);\n",
       "      filter: drop-shadow(0px 1px 2px rgba(0, 0, 0, 0.3));\n",
       "      fill: #FFFFFF;\n",
       "    }\n",
       "  </style>\n",
       "\n",
       "    <script>\n",
       "      const buttonEl =\n",
       "        document.querySelector('#df-7f6e5776-4e11-4c8a-aa2c-0d9b4563db8a button.colab-df-convert');\n",
       "      buttonEl.style.display =\n",
       "        google.colab.kernel.accessAllowed ? 'block' : 'none';\n",
       "\n",
       "      async function convertToInteractive(key) {\n",
       "        const element = document.querySelector('#df-7f6e5776-4e11-4c8a-aa2c-0d9b4563db8a');\n",
       "        const dataTable =\n",
       "          await google.colab.kernel.invokeFunction('convertToInteractive',\n",
       "                                                    [key], {});\n",
       "        if (!dataTable) return;\n",
       "\n",
       "        const docLinkHtml = 'Like what you see? Visit the ' +\n",
       "          '<a target=\"_blank\" href=https://colab.research.google.com/notebooks/data_table.ipynb>data table notebook</a>'\n",
       "          + ' to learn more about interactive tables.';\n",
       "        element.innerHTML = '';\n",
       "        dataTable['output_type'] = 'display_data';\n",
       "        await google.colab.output.renderOutput(dataTable, element);\n",
       "        const docLink = document.createElement('div');\n",
       "        docLink.innerHTML = docLinkHtml;\n",
       "        element.appendChild(docLink);\n",
       "      }\n",
       "    </script>\n",
       "  </div>\n",
       "\n",
       "\n",
       "    <div id=\"df-e084c134-7aa7-46f8-a11b-93e6327c98e1\">\n",
       "      <button class=\"colab-df-quickchart\" onclick=\"quickchart('df-e084c134-7aa7-46f8-a11b-93e6327c98e1')\"\n",
       "                title=\"Suggest charts\"\n",
       "                style=\"display:none;\">\n",
       "\n",
       "<svg xmlns=\"http://www.w3.org/2000/svg\" height=\"24px\"viewBox=\"0 0 24 24\"\n",
       "     width=\"24px\">\n",
       "    <g>\n",
       "        <path d=\"M19 3H5c-1.1 0-2 .9-2 2v14c0 1.1.9 2 2 2h14c1.1 0 2-.9 2-2V5c0-1.1-.9-2-2-2zM9 17H7v-7h2v7zm4 0h-2V7h2v10zm4 0h-2v-4h2v4z\"/>\n",
       "    </g>\n",
       "</svg>\n",
       "      </button>\n",
       "\n",
       "<style>\n",
       "  .colab-df-quickchart {\n",
       "      --bg-color: #E8F0FE;\n",
       "      --fill-color: #1967D2;\n",
       "      --hover-bg-color: #E2EBFA;\n",
       "      --hover-fill-color: #174EA6;\n",
       "      --disabled-fill-color: #AAA;\n",
       "      --disabled-bg-color: #DDD;\n",
       "  }\n",
       "\n",
       "  [theme=dark] .colab-df-quickchart {\n",
       "      --bg-color: #3B4455;\n",
       "      --fill-color: #D2E3FC;\n",
       "      --hover-bg-color: #434B5C;\n",
       "      --hover-fill-color: #FFFFFF;\n",
       "      --disabled-bg-color: #3B4455;\n",
       "      --disabled-fill-color: #666;\n",
       "  }\n",
       "\n",
       "  .colab-df-quickchart {\n",
       "    background-color: var(--bg-color);\n",
       "    border: none;\n",
       "    border-radius: 50%;\n",
       "    cursor: pointer;\n",
       "    display: none;\n",
       "    fill: var(--fill-color);\n",
       "    height: 32px;\n",
       "    padding: 0;\n",
       "    width: 32px;\n",
       "  }\n",
       "\n",
       "  .colab-df-quickchart:hover {\n",
       "    background-color: var(--hover-bg-color);\n",
       "    box-shadow: 0 1px 2px rgba(60, 64, 67, 0.3), 0 1px 3px 1px rgba(60, 64, 67, 0.15);\n",
       "    fill: var(--button-hover-fill-color);\n",
       "  }\n",
       "\n",
       "  .colab-df-quickchart-complete:disabled,\n",
       "  .colab-df-quickchart-complete:disabled:hover {\n",
       "    background-color: var(--disabled-bg-color);\n",
       "    fill: var(--disabled-fill-color);\n",
       "    box-shadow: none;\n",
       "  }\n",
       "\n",
       "  .colab-df-spinner {\n",
       "    border: 2px solid var(--fill-color);\n",
       "    border-color: transparent;\n",
       "    border-bottom-color: var(--fill-color);\n",
       "    animation:\n",
       "      spin 1s steps(1) infinite;\n",
       "  }\n",
       "\n",
       "  @keyframes spin {\n",
       "    0% {\n",
       "      border-color: transparent;\n",
       "      border-bottom-color: var(--fill-color);\n",
       "      border-left-color: var(--fill-color);\n",
       "    }\n",
       "    20% {\n",
       "      border-color: transparent;\n",
       "      border-left-color: var(--fill-color);\n",
       "      border-top-color: var(--fill-color);\n",
       "    }\n",
       "    30% {\n",
       "      border-color: transparent;\n",
       "      border-left-color: var(--fill-color);\n",
       "      border-top-color: var(--fill-color);\n",
       "      border-right-color: var(--fill-color);\n",
       "    }\n",
       "    40% {\n",
       "      border-color: transparent;\n",
       "      border-right-color: var(--fill-color);\n",
       "      border-top-color: var(--fill-color);\n",
       "    }\n",
       "    60% {\n",
       "      border-color: transparent;\n",
       "      border-right-color: var(--fill-color);\n",
       "    }\n",
       "    80% {\n",
       "      border-color: transparent;\n",
       "      border-right-color: var(--fill-color);\n",
       "      border-bottom-color: var(--fill-color);\n",
       "    }\n",
       "    90% {\n",
       "      border-color: transparent;\n",
       "      border-bottom-color: var(--fill-color);\n",
       "    }\n",
       "  }\n",
       "</style>\n",
       "\n",
       "      <script>\n",
       "        async function quickchart(key) {\n",
       "          const quickchartButtonEl =\n",
       "            document.querySelector('#' + key + ' button');\n",
       "          quickchartButtonEl.disabled = true;  // To prevent multiple clicks.\n",
       "          quickchartButtonEl.classList.add('colab-df-spinner');\n",
       "          try {\n",
       "            const charts = await google.colab.kernel.invokeFunction(\n",
       "                'suggestCharts', [key], {});\n",
       "          } catch (error) {\n",
       "            console.error('Error during call to suggestCharts:', error);\n",
       "          }\n",
       "          quickchartButtonEl.classList.remove('colab-df-spinner');\n",
       "          quickchartButtonEl.classList.add('colab-df-quickchart-complete');\n",
       "        }\n",
       "        (() => {\n",
       "          let quickchartButtonEl =\n",
       "            document.querySelector('#df-e084c134-7aa7-46f8-a11b-93e6327c98e1 button');\n",
       "          quickchartButtonEl.style.display =\n",
       "            google.colab.kernel.accessAllowed ? 'block' : 'none';\n",
       "        })();\n",
       "      </script>\n",
       "    </div>\n",
       "\n",
       "  <div id=\"id_ed5f1170-deb9-4cbb-a105-8d45a81ccba5\">\n",
       "    <style>\n",
       "      .colab-df-generate {\n",
       "        background-color: #E8F0FE;\n",
       "        border: none;\n",
       "        border-radius: 50%;\n",
       "        cursor: pointer;\n",
       "        display: none;\n",
       "        fill: #1967D2;\n",
       "        height: 32px;\n",
       "        padding: 0 0 0 0;\n",
       "        width: 32px;\n",
       "      }\n",
       "\n",
       "      .colab-df-generate:hover {\n",
       "        background-color: #E2EBFA;\n",
       "        box-shadow: 0px 1px 2px rgba(60, 64, 67, 0.3), 0px 1px 3px 1px rgba(60, 64, 67, 0.15);\n",
       "        fill: #174EA6;\n",
       "      }\n",
       "\n",
       "      [theme=dark] .colab-df-generate {\n",
       "        background-color: #3B4455;\n",
       "        fill: #D2E3FC;\n",
       "      }\n",
       "\n",
       "      [theme=dark] .colab-df-generate:hover {\n",
       "        background-color: #434B5C;\n",
       "        box-shadow: 0px 1px 3px 1px rgba(0, 0, 0, 0.15);\n",
       "        filter: drop-shadow(0px 1px 2px rgba(0, 0, 0, 0.3));\n",
       "        fill: #FFFFFF;\n",
       "      }\n",
       "    </style>\n",
       "    <button class=\"colab-df-generate\" onclick=\"generateWithVariable('df')\"\n",
       "            title=\"Generate code using this dataframe.\"\n",
       "            style=\"display:none;\">\n",
       "\n",
       "  <svg xmlns=\"http://www.w3.org/2000/svg\" height=\"24px\"viewBox=\"0 0 24 24\"\n",
       "       width=\"24px\">\n",
       "    <path d=\"M7,19H8.4L18.45,9,17,7.55,7,17.6ZM5,21V16.75L18.45,3.32a2,2,0,0,1,2.83,0l1.4,1.43a1.91,1.91,0,0,1,.58,1.4,1.91,1.91,0,0,1-.58,1.4L9.25,21ZM18.45,9,17,7.55Zm-12,3A5.31,5.31,0,0,0,4.9,8.1,5.31,5.31,0,0,0,1,6.5,5.31,5.31,0,0,0,4.9,4.9,5.31,5.31,0,0,0,6.5,1,5.31,5.31,0,0,0,8.1,4.9,5.31,5.31,0,0,0,12,6.5,5.46,5.46,0,0,0,6.5,12Z\"/>\n",
       "  </svg>\n",
       "    </button>\n",
       "    <script>\n",
       "      (() => {\n",
       "      const buttonEl =\n",
       "        document.querySelector('#id_ed5f1170-deb9-4cbb-a105-8d45a81ccba5 button.colab-df-generate');\n",
       "      buttonEl.style.display =\n",
       "        google.colab.kernel.accessAllowed ? 'block' : 'none';\n",
       "\n",
       "      buttonEl.onclick = () => {\n",
       "        google.colab.notebook.generateWithVariable('df');\n",
       "      }\n",
       "      })();\n",
       "    </script>\n",
       "  </div>\n",
       "\n",
       "    </div>\n",
       "  </div>\n"
      ],
      "text/plain": [
       "                             text  labels\n",
       "0                배우들 연기도 너무 좋았어요.       1\n",
       "1            스토리가 탄탄하고 연출도 훌륭했어요.       1\n",
       "2   정말 감동적인 영화였습니다. 눈물이 멈추질 않았어요.       1\n",
       "3         끝까지 집중해서 봤습니다. 완전 추천해요!       1\n",
       "4         감성과 메시지가 모두 살아있는 영화였어요.       1\n",
       "5      오랜만에 이런 좋은 영화를 봐서 기분이 좋아요.       1\n",
       "6            음악, 연출, 연기 모두 완벽했어요.       1\n",
       "7           시간 가는 줄 몰랐어요. 최고의 영화!       1\n",
       "8           스토리 전개가 매끄럽고 감동적이었어요.       1\n",
       "9           친구들에게 꼭 추천하고 싶은 영화예요.       1\n",
       "10                 지루해서 중간에 졸았어요.       0\n",
       "11      배우 연기가 너무 어색해서 몰입이 안 됐어요.       0\n",
       "12            스토리가 산만하고 전개가 엉성해요.       0\n",
       "13           예고편이 다였네요. 본편은 별로예요.       0\n",
       "14           너무 뻔한 이야기라 재미가 없었어요.       0\n",
       "15          연출이 허술하고 대사도 부자연스러워요.       0\n",
       "16                기대한 만큼 실망만 컸어요.       0\n",
       "17                 시간 아깝고 돈 아깝네요.       0\n",
       "18          한 번 보고 다시는 보고 싶지 않아요.       0\n",
       "19          결말도 어이없고 전체적으로 별로였어요.       0"
      ]
     },
     "execution_count": 26,
     "metadata": {},
     "output_type": "execute_result"
    }
   ],
   "source": [
    "df"
   ]
  },
  {
   "cell_type": "code",
   "execution_count": 27,
   "metadata": {
    "colab": {
     "base_uri": "https://localhost:8080/"
    },
    "id": "4TNoydI0OERy",
    "outputId": "175addf7-cc4f-4bdf-e7df-03efb48f14b7"
   },
   "outputs": [
    {
     "data": {
      "text/plain": [
       "[['배우들', '연기도', '너무', '좋았어요.'],\n",
       " ['스토리가', '탄탄하고', '연출도', '훌륭했어요.'],\n",
       " ['정말', '감동적인', '영화였습니다.', '눈물이', '멈추질', '않았어요.'],\n",
       " ['끝까지', '집중해서', '봤습니다.', '완전', '추천해요!'],\n",
       " ['감성과', '메시지가', '모두', '살아있는', '영화였어요.'],\n",
       " ['오랜만에', '이런', '좋은', '영화를', '봐서', '기분이', '좋아요.'],\n",
       " ['음악,', '연출,', '연기', '모두', '완벽했어요.'],\n",
       " ['시간', '가는', '줄', '몰랐어요.', '최고의', '영화!'],\n",
       " ['스토리', '전개가', '매끄럽고', '감동적이었어요.'],\n",
       " ['친구들에게', '꼭', '추천하고', '싶은', '영화예요.'],\n",
       " ['지루해서', '중간에', '졸았어요.'],\n",
       " ['배우', '연기가', '너무', '어색해서', '몰입이', '안', '됐어요.'],\n",
       " ['스토리가', '산만하고', '전개가', '엉성해요.'],\n",
       " ['예고편이', '다였네요.', '본편은', '별로예요.'],\n",
       " ['너무', '뻔한', '이야기라', '재미가', '없었어요.'],\n",
       " ['연출이', '허술하고', '대사도', '부자연스러워요.'],\n",
       " ['기대한', '만큼', '실망만', '컸어요.'],\n",
       " ['시간', '아깝고', '돈', '아깝네요.'],\n",
       " ['한', '번', '보고', '다시는', '보고', '싶지', '않아요.'],\n",
       " ['결말도', '어이없고', '전체적으로', '별로였어요.']]"
      ]
     },
     "execution_count": 27,
     "metadata": {},
     "output_type": "execute_result"
    }
   ],
   "source": [
    "tokenize = [sentence.split() for sentence in text]\n",
    "tokenize"
   ]
  },
  {
   "cell_type": "code",
   "execution_count": 46,
   "metadata": {
    "colab": {
     "base_uri": "https://localhost:8080/"
    },
    "id": "iIqJ2OHNTeTU",
    "outputId": "f989d769-0781-4698-def3-cb1656ac664d"
   },
   "outputs": [
    {
     "name": "stdout",
     "output_type": "stream",
     "text": [
      "{'없었어요.', '좋았어요.', '허술하고', '배우들', '산만하고', '모두', '봐서', '완전', '됐어요.', '컸어요.', '아깝고', '추천하고', '몰입이', '결말도', '기대한', '연기', '부자연스러워요.', '한', '완벽했어요.', '재미가', '전개가', '탄탄하고', '끝까지', '싶은', '엉성해요.', '본편은', '친구들에게', '시간', '몰랐어요.', '돈', '줄', '봤습니다.', '정말', '연출,', '예고편이', '어이없고', '기분이', '음악,', '집중해서', '어색해서', '좋아요.', '연출이', '배우', '영화였어요.', '대사도', '다였네요.', '만큼', '번', '멈추질', '안', '좋은', '실망만', '보고', '스토리가', '영화!', '영화예요.', '이야기라', '가는', '연기도', '별로였어요.', '싶지', '별로예요.', '졸았어요.', '추천해요!', '않았어요.', '뻔한', '메시지가', '너무', '중간에', '훌륭했어요.', '감성과', '다시는', '오랜만에', '스토리', '감동적이었어요.', '전체적으로', '영화였습니다.', '살아있는', '이런', '영화를', '꼭', '연출도', '아깝네요.', '않아요.', '눈물이', '최고의', '매끄럽고', '지루해서', '연기가', '감동적인'}\n"
     ]
    }
   ],
   "source": [
    "def make_voka(tokenized_sentences):\n",
    "  voca = set()\n",
    "  for sentence in tokenized_sentences:\n",
    "    for word in sentence:\n",
    "      voca.add(word)\n",
    "  return voca\n",
    "\n",
    "voca = make_voka(tokenize)\n",
    "print(voca)"
   ]
  },
  {
   "cell_type": "code",
   "execution_count": 65,
   "metadata": {
    "colab": {
     "base_uri": "https://localhost:8080/"
    },
    "id": "VRUEejZGVAgJ",
    "outputId": "b0c527c9-9f9c-4e3c-d90e-0e6d8623fc84"
   },
   "outputs": [
    {
     "name": "stdout",
     "output_type": "stream",
     "text": [
      "{'없었어요.': 1, '좋았어요.': 2, '허술하고': 3, '배우들': 4, '산만하고': 5, '모두': 6, '봐서': 7, '완전': 8, '됐어요.': 9, '컸어요.': 10, '아깝고': 11, '추천하고': 12, '몰입이': 13, '결말도': 14, '기대한': 15, '연기': 16, '부자연스러워요.': 17, '한': 18, '완벽했어요.': 19, '재미가': 20, '전개가': 21, '탄탄하고': 22, '끝까지': 23, '싶은': 24, '엉성해요.': 25, '본편은': 26, '친구들에게': 27, '시간': 28, '몰랐어요.': 29, '돈': 30, '줄': 31, '봤습니다.': 32, '정말': 33, '연출,': 34, '예고편이': 35, '어이없고': 36, '기분이': 37, '음악,': 38, '집중해서': 39, '어색해서': 40, '좋아요.': 41, '연출이': 42, '배우': 43, '영화였어요.': 44, '대사도': 45, '다였네요.': 46, '만큼': 47, '번': 48, '멈추질': 49, '안': 50, '좋은': 51, '실망만': 52, '보고': 53, '스토리가': 54, '영화!': 55, '영화예요.': 56, '이야기라': 57, '가는': 58, '연기도': 59, '별로였어요.': 60, '싶지': 61, '별로예요.': 62, '졸았어요.': 63, '추천해요!': 64, '않았어요.': 65, '뻔한': 66, '메시지가': 67, '너무': 68, '중간에': 69, '훌륭했어요.': 70, '감성과': 71, '다시는': 72, '오랜만에': 73, '스토리': 74, '감동적이었어요.': 75, '전체적으로': 76, '영화였습니다.': 77, '살아있는': 78, '이런': 79, '영화를': 80, '꼭': 81, '연출도': 82, '아깝네요.': 83, '않아요.': 84, '눈물이': 85, '최고의': 86, '매끄럽고': 87, '지루해서': 88, '연기가': 89, '감동적인': 90}\n"
     ]
    }
   ],
   "source": [
    "word2idx = {word: idx+1 for idx, word in enumerate(voca)} # padding = 0\n",
    "print(word2idx)"
   ]
  },
  {
   "cell_type": "code",
   "execution_count": 66,
   "metadata": {
    "colab": {
     "base_uri": "https://localhost:8080/"
    },
    "id": "zm70OdcQXG8k",
    "outputId": "75a385f2-270a-455b-8402-72e0e34687b6"
   },
   "outputs": [
    {
     "data": {
      "text/plain": [
       "63"
      ]
     },
     "execution_count": 66,
     "metadata": {},
     "output_type": "execute_result"
    }
   ],
   "source": [
    "word2idx.get('졸았어요.', 0)"
   ]
  },
  {
   "cell_type": "code",
   "execution_count": 67,
   "metadata": {
    "colab": {
     "base_uri": "https://localhost:8080/"
    },
    "id": "u-JKrIZzXKQw",
    "outputId": "3bf952eb-2eb3-41de-a476-4a4758bb244c"
   },
   "outputs": [
    {
     "data": {
      "text/plain": [
       "2"
      ]
     },
     "execution_count": 67,
     "metadata": {},
     "output_type": "execute_result"
    }
   ],
   "source": [
    "word2idx.get('좋았어요.', 0)"
   ]
  },
  {
   "cell_type": "code",
   "execution_count": 69,
   "metadata": {
    "colab": {
     "base_uri": "https://localhost:8080/"
    },
    "id": "4n-CTBjwhd_a",
    "outputId": "22df0eae-b825-422a-e5f5-7303d1515336"
   },
   "outputs": [
    {
     "name": "stdout",
     "output_type": "stream",
     "text": [
      "91\n"
     ]
    }
   ],
   "source": [
    "n_voca = len(word2idx) + 1\n",
    "print(n_voca)"
   ]
  },
  {
   "cell_type": "code",
   "execution_count": 57,
   "metadata": {
    "id": "_BVAScSXXQaH"
   },
   "outputs": [],
   "source": [
    "# ======= 3. Dataset 클래스 생성 =======\n",
    "class TextDataset(Dataset):\n",
    "  def __init__(self, text, labels, word2idx):\n",
    "    self.data = [sc.split() for sc in text]\n",
    "    self.labels = labels\n",
    "    self.word2idx = word2idx\n",
    "    self.max_len = max(len(sc) for sc in self.data)\n",
    "\n",
    "  def __len__(self):\n",
    "    return len(self.data)\n",
    "\n",
    "  def __getitem__(self, idx):\n",
    "    sentence = self.data[idx]\n",
    "    indices = [word2idx.get(word,0) for word in sentence]\n",
    "    padding = indices + [0] * (self.max_len - len(indices))\n",
    "    return torch.tensor(padding), torch.tensor(self.labels[idx])\n"
   ]
  },
  {
   "cell_type": "code",
   "execution_count": 64,
   "metadata": {
    "id": "E1FQ4sz1ZSqY"
   },
   "outputs": [],
   "source": [
    "dataset = TextDataset(text, labels, word2idx)\n",
    "loader = DataLoader(dataset, batch_size=2, shuffle=True)"
   ]
  },
  {
   "cell_type": "code",
   "execution_count": 72,
   "metadata": {
    "id": "XvuW3yvCZhD-"
   },
   "outputs": [],
   "source": [
    "# ======= 4. LSTM 모델 =======\n",
    "class LSTMClassifier(nn.Module):\n",
    "  def __init__(self, n_voca, embed_dim, hidden_dim, output_dim):\n",
    "    super().__init__()\n",
    "    self.embedding = nn.Embedding(n_voca, embed_dim, padding_idx=0)\n",
    "    self.lstm = nn.LSTM(\n",
    "        input_size = embed_dim,\n",
    "        hidden_size = hidden_dim,\n",
    "        num_layers = 2,\n",
    "        batch_first = True\n",
    "    )\n",
    "    self.fc = nn.Linear(hidden_dim, output_dim)\n",
    "\n",
    "  def forward(self, x):\n",
    "    embedded = self.embedding(x)\n",
    "    _, (hidden, _) = self.lstm(embedded)\n",
    "    return self.fc(hidden[-1])"
   ]
  },
  {
   "cell_type": "code",
   "execution_count": 73,
   "metadata": {
    "id": "8hurvKVbbkcs"
   },
   "outputs": [],
   "source": [
    "model = LSTMClassifier(n_voca, embed_dim=16, hidden_dim=32, output_dim=2)\n",
    "criterion = nn.CrossEntropyLoss()\n",
    "optimizer = optim.Adam(model.parameters(), lr=0.01)"
   ]
  },
  {
   "cell_type": "code",
   "execution_count": 74,
   "metadata": {
    "colab": {
     "base_uri": "https://localhost:8080/"
    },
    "id": "XZMyB7UchKPB",
    "outputId": "2501c916-a148-4453-8d24-7a1718429ad4"
   },
   "outputs": [
    {
     "name": "stdout",
     "output_type": "stream",
     "text": [
      "Epoch 1, Loss: 0.6878\n",
      "Epoch 2, Loss: 0.4427\n",
      "Epoch 3, Loss: 0.0708\n",
      "Epoch 4, Loss: 0.0047\n",
      "Epoch 5, Loss: 0.0003\n",
      "Epoch 6, Loss: 0.0003\n",
      "Epoch 7, Loss: 0.0002\n",
      "Epoch 8, Loss: 0.0002\n",
      "Epoch 9, Loss: 0.0001\n",
      "Epoch 10, Loss: 0.0001\n"
     ]
    }
   ],
   "source": [
    "# ======= 5. 학습 =======\n",
    "for epoch in range(10):\n",
    "  for x_batch, y_batch in loader:\n",
    "    optimizer.zero_grad()\n",
    "    y_hat = model(x_batch)\n",
    "    loss = criterion(y_hat, y_batch)\n",
    "    loss.backward()\n",
    "    optimizer.step()\n",
    "  print(f\"Epoch {epoch+1}, Loss: {loss.item():.4f}\")"
   ]
  },
  {
   "cell_type": "code",
   "execution_count": 75,
   "metadata": {
    "id": "n-I3BZpoh7wj"
   },
   "outputs": [],
   "source": [
    "# ======= 6. 예측 =======\n",
    "def predict(sentence):\n",
    "  model.eval()\n",
    "  with torch.no_grad():\n",
    "    words = sentence.split()\n",
    "    indices = [word2idx.get(word, 0) for word in words]\n",
    "    padding = indices + [0] * (dataset.max_len - len(indices))\n",
    "    input_tensor = torch.tensor([padding])\n",
    "    output = model(input_tensor)\n",
    "    predicted = torch.argmax(output, dim=1).item()\n",
    "    return \"긍정\" if predicted == 1 else \"부정\""
   ]
  },
  {
   "cell_type": "code",
   "execution_count": 78,
   "metadata": {
    "colab": {
     "base_uri": "https://localhost:8080/"
    },
    "id": "Cq8XW-eLlZiM",
    "outputId": "65bb17c7-ac60-4cf4-8320-1f4ad269b5f4"
   },
   "outputs": [
    {
     "name": "stdout",
     "output_type": "stream",
     "text": [
      "문장: 정말 감동적인 영화였어 -> 예측: 긍정\n",
      "문장: 지루하고 재미없다 -> 예측: 부정\n",
      "문장: 다시 보고 싶어 -> 예측: 부정\n",
      "문장: 정말 별로 재미없어. 졸았어 -> 예측: 긍정\n"
     ]
    }
   ],
   "source": [
    "# ======= 7. 예측 테스트 =======\n",
    "test_sentences = [\n",
    "    \"정말 감동적인 영화였어\",\n",
    "    \"지루하고 재미없다\",\n",
    "    \"다시 보고 싶어\",\n",
    "    \"정말 별로 재미없어. 졸았어\"\n",
    "]\n",
    "\n",
    "for sentence in test_sentences:\n",
    "  print(f\"문장: {sentence} -> 예측: {predict(sentence)}\")"
   ]
  },
  {
   "cell_type": "code",
   "execution_count": null,
   "metadata": {
    "id": "hZGfUQXNl1qB"
   },
   "outputs": [],
   "source": []
  }
 ],
 "metadata": {
  "colab": {
   "provenance": []
  },
  "kernelspec": {
   "display_name": "Python 3 (ipykernel)",
   "language": "python",
   "name": "python3"
  },
  "language_info": {
   "codemirror_mode": {
    "name": "ipython",
    "version": 3
   },
   "file_extension": ".py",
   "mimetype": "text/x-python",
   "name": "python",
   "nbconvert_exporter": "python",
   "pygments_lexer": "ipython3",
   "version": "3.13.2"
  }
 },
 "nbformat": 4,
 "nbformat_minor": 4
}
