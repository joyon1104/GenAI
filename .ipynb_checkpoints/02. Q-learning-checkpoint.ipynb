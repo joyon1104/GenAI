{
 "cells": [
  {
   "cell_type": "code",
   "execution_count": 2,
   "id": "54dcbf11-9b8b-4021-9ada-a76ffcb968fe",
   "metadata": {},
   "outputs": [
    {
     "data": {
      "text/plain": [
       "{(0, 'left'): 0.0,\n",
       " (0, 'right'): 0.0,\n",
       " (1, 'left'): 0.0,\n",
       " (1, 'right'): 0.0,\n",
       " (2, 'left'): 0.0,\n",
       " (2, 'right'): 0.0,\n",
       " (3, 'left'): 0.0,\n",
       " (3, 'right'): 0.0,\n",
       " (4, 'left'): 0.0,\n",
       " (4, 'right'): 0.0,\n",
       " (5, 'left'): 0.0,\n",
       " (5, 'right'): 0.0,\n",
       " (6, 'left'): 0.0,\n",
       " (6, 'right'): 0.0,\n",
       " (7, 'left'): 0.0,\n",
       " (7, 'right'): 0.0,\n",
       " (8, 'left'): 0.0,\n",
       " (8, 'right'): 0.0,\n",
       " (9, 'left'): 0.0,\n",
       " (9, 'right'): 0.0}"
      ]
     },
     "execution_count": 2,
     "metadata": {},
     "output_type": "execute_result"
    }
   ],
   "source": [
    "import random\n",
    "\n",
    "# 초기화\n",
    "random.seed(777)\n",
    "n_states = 10\n",
    "actions = ['left', 'right']\n",
    "Q = {(s, a): 0.0 for s in range(n_states) for a in actions}\n",
    "Q"
   ]
  },
  {
   "cell_type": "code",
   "execution_count": 3,
   "id": "b1db482e-e54d-48f8-88ee-3d85423f68e2",
   "metadata": {},
   "outputs": [],
   "source": [
    "alpha = 0.1\n",
    "gamma = 0.9\n",
    "eps = 0.1  # 입실론 확률 만큼 랜덤으로 행동 선택\n",
    "n_episode = 500  # 에피소드 개수"
   ]
  },
  {
   "cell_type": "code",
   "execution_count": 8,
   "id": "153e1d8f-a748-40d3-8e7c-cce7bae5005e",
   "metadata": {},
   "outputs": [],
   "source": [
    "# 전이 함수\n",
    "def step(St, At):\n",
    "    prev_dist = abs(St-9)\n",
    "    if At == 'right':\n",
    "        S_next = min(St + 1, 9)\n",
    "    else:\n",
    "        S_next = max(St - 1, 0)\n",
    "\n",
    "    new_dist = abs(S_next - 9)\n",
    "\n",
    "    if S_next == 9:\n",
    "        R_next = 10\n",
    "        done = True\n",
    "    elif new_dist < prev_dist:\n",
    "        R_next = 1\n",
    "        done = False\n",
    "    elif new_dist > prev_dist:\n",
    "        R_next = -1\n",
    "        done = False\n",
    "    else:\n",
    "        R_next = 0\n",
    "        done = False\n",
    "    return S_next, R_next, done"
   ]
  },
  {
   "cell_type": "code",
   "execution_count": 11,
   "id": "ac944d4d-c0bf-4c00-b708-af528cc9197f",
   "metadata": {},
   "outputs": [],
   "source": [
    "# 정책 함수\n",
    "def policy(St):\n",
    "    if random.random() < eps:\n",
    "        At = random.choice(actions)\n",
    "    else:\n",
    "        q_left = Q[(St, 'left')]\n",
    "        q_right = Q[(St, 'right')]\n",
    "        At = 'left' if q_left > q_right else 'right'\n",
    "    return At"
   ]
  },
  {
   "cell_type": "code",
   "execution_count": 13,
   "id": "8cf0e664-f590-45a2-93b8-38cf704974d0",
   "metadata": {},
   "outputs": [],
   "source": [
    "for _ in range(n_episode):\n",
    "    St = 0\n",
    "    done = False\n",
    "\n",
    "    while not done:\n",
    "        At = policy(St)\n",
    "        S_next, R_next, done = step(St, At)\n",
    "\n",
    "        maxQ_next = max(Q[(S_next, a)] for a in actions)\n",
    "        Q[(St, At)] += alpha * (R_next + gamma * maxQ_next - Q[(St, At)])\n",
    "\n",
    "        St = S_next"
   ]
  },
  {
   "cell_type": "code",
   "execution_count": 15,
   "id": "be16141e-b810-462a-ae1b-d633e939adf1",
   "metadata": {},
   "outputs": [
    {
     "name": "stdout",
     "output_type": "stream",
     "text": [
      "Q-learning 학습 결과 (Q-values):\n",
      "State 0: left=8.98, right=10.00\n",
      "State 1: left=7.96, right=10.00\n",
      "State 2: left=7.95, right=10.00\n",
      "State 3: left=7.96, right=10.00\n",
      "State 4: left=7.93, right=10.00\n",
      "State 5: left=7.98, right=10.00\n",
      "State 6: left=7.97, right=10.00\n",
      "State 7: left=7.94, right=10.00\n",
      "State 8: left=7.95, right=10.00\n",
      "State 9: left=0.00, right=0.00\n"
     ]
    }
   ],
   "source": [
    "print(\"Q-learning 학습 결과 (Q-values):\")\n",
    "for s in range(n_states):\n",
    "    print(f\"State {s}: left={Q[(s, 'left')]:.2f}, right={Q[(s, 'right')]:.2f}\")"
   ]
  },
  {
   "cell_type": "code",
   "execution_count": null,
   "id": "11e3b0be-f1ec-4bd1-95a7-ff890ca14eed",
   "metadata": {},
   "outputs": [],
   "source": []
  }
 ],
 "metadata": {
  "kernelspec": {
   "display_name": "Python 3 (ipykernel)",
   "language": "python",
   "name": "python3"
  },
  "language_info": {
   "codemirror_mode": {
    "name": "ipython",
    "version": 3
   },
   "file_extension": ".py",
   "mimetype": "text/x-python",
   "name": "python",
   "nbconvert_exporter": "python",
   "pygments_lexer": "ipython3",
   "version": "3.13.2"
  }
 },
 "nbformat": 4,
 "nbformat_minor": 5
}
